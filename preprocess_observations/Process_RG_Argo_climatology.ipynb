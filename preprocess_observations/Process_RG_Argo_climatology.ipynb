{
 "cells": [
  {
   "cell_type": "code",
   "execution_count": 2,
   "metadata": {},
   "outputs": [],
   "source": [
    "import matplotlib.pyplot as plt\n",
    "import numpy as np\n",
    "import xarray as xr\n",
    "import glob\n",
    "import matplotlib\n",
    "from netCDF4 import Dataset\n",
    "import sys\n",
    "import os\n",
    "\n",
    "# define plot dimensions\n",
    "%matplotlib inline  \n",
    "plt.rcParams[\"figure.figsize\"] = (8.,8.)\n",
    "\n",
    "from mpl_toolkits.basemap import Basemap\n",
    "import matplotlib.colors as cols\n",
    "plt.rcParams[\"figure.figsize\"] = (20,12)\n",
    "\n",
    "### axis_font = {'fontname':'Arial', 'size':'18'}    \n",
    "title_font = {'fontname':'Arial', 'size':'32', 'color':'black', 'weight':'normal'}\n",
    "matplotlib.rc('xtick', labelsize=28)\n",
    "matplotlib.rc('ytick', labelsize=28)"
   ]
  },
  {
   "cell_type": "code",
   "execution_count": 6,
   "metadata": {},
   "outputs": [],
   "source": [
    "#path to raw ARGO file downloaded from http://sio-argo.ucsd.edu/RG_Climatology.html\n",
    "#Note that script expects files named RG_ArgoClim_Temperature_2017.nc and RG_ArgoClim_Salinity_2017.nc\n",
    "\n",
    "basePath = '/lcrc/group/acme/lvanroe'\n",
    "nameOfOutputFile = 'ArgoClimatology_TS.nc'"
   ]
  },
  {
   "cell_type": "code",
   "execution_count": 33,
   "metadata": {},
   "outputs": [],
   "source": [
    "ncidT = Dataset(basePath+'/RG_ArgoClim_Temperature_2017.nc','r')\n",
    "ncidS = Dataset(basePath+'/RG_ArgoClim_Salinity_2017.nc','r')\n",
    "\n",
    "lon = ncidT.variables['LONGITUDE'][:]\n",
    "lat = ncidT.variables['LATITUDE'][:]\n",
    "\n",
    "anomT = ncidT.variables['ARGO_TEMPERATURE_ANOMALY'][:,:,:,:]\n",
    "meanT = ncidT.variables['ARGO_TEMPERATURE_MEAN'][:,:,:]\n",
    "\n",
    "anomS = ncidS.variables['ARGO_SALINITY_ANOMALY'][:,:,:,:]\n",
    "meanS = ncidS.variables['ARGO_SALINITY_MEAN'][:,:,:]\n",
    "\n",
    "bmask = ncidT.variables['BATHYMETRY_MASK'][:]\n",
    "\n",
    "depth = -ncidT.variables['PRESSURE'][:]"
   ]
  },
  {
   "cell_type": "code",
   "execution_count": 34,
   "metadata": {},
   "outputs": [],
   "source": [
    "#forms monthly averages of T and S\n",
    "monthV = np.zeros(12);\n",
    "nx = len(lon)\n",
    "ny = len(lat)\n",
    "nz = len(depth)\n",
    "\n",
    "theta = np.zeros((12,nz,ny,nx))\n",
    "salinity = np.zeros((12,nz,ny,nx))\n",
    "\n",
    "for i in range(12):\n",
    "    monthV[i] = i\n",
    "    theta[i,:,:,:] = anomT[i::12,:,:,:].mean(axis=0)+meanT\n",
    "    salinity[i,:,:,:] = anomS[i::12,:,:,:].mean(axis=0)+meanS"
   ]
  },
  {
   "cell_type": "code",
   "execution_count": 35,
   "metadata": {},
   "outputs": [],
   "source": [
    "#Mask bathymetry\n",
    "bmask = np.roll(bmask,20,axis=2)\n",
    "for i in range(nz):\n",
    "    inds1=np.where(bmask[i,:,:] != 1.0)[0]\n",
    "    inds2=np.where(bmask[i,:,:] != 1.0)[1]\n",
    "    salinity[:,i,inds1,inds2] = np.nan\n",
    "    theta[:,i,inds1,inds2] = np.nan"
   ]
  },
  {
   "cell_type": "code",
   "execution_count": 36,
   "metadata": {},
   "outputs": [],
   "source": [
    "#need to append a few rows to have a 180 x 360 matrix\n",
    "theta2 = np.zeros((12,58,180,360))\n",
    "salt2 = np.zeros((12,58,180,360))"
   ]
  },
  {
   "cell_type": "code",
   "execution_count": 37,
   "metadata": {},
   "outputs": [],
   "source": [
    "theta2[:,:,25:170,:] = theta\n",
    "salt2[:,:,25:170,:] = salinity\n",
    "\n",
    "theta2[:,:,:25,:] = np.nan\n",
    "theta2[:,:,170:,:] = np.nan\n",
    "\n",
    "salt2[:,:,:25,:] = np.nan\n",
    "salt2[:,:,170:,:] = np.nan"
   ]
  },
  {
   "cell_type": "code",
   "execution_count": 38,
   "metadata": {},
   "outputs": [],
   "source": [
    "if os.path.isfile(basePath+'/'+nameOfOutputFile):\n",
    "    os.remove(basePath+'/'+nameOfOutputFile)\n",
    "ncid = Dataset(basePath+'/'+nameOfOutputFile,'w')\n",
    "ncid.createDimension('Time',None)\n",
    "ncid.createDimension('LATITUDE',180)\n",
    "ncid.createDimension('LONGITUDE',360)\n",
    "ncid.createDimension('DEPTH',58)\n",
    "\n",
    "month = ncid.createVariable('month','i4',('Time'))\n",
    "lat = ncid.createVariable('LATITUDE','f8',('LATITUDE'))\n",
    "lonV = ncid.createVariable('LONGITUDE','f8',('LONGITUDE'))\n",
    "dep = ncid.createVariable('DEPTH','f8',('DEPTH'))\n",
    "thet=ncid.createVariable('theta','f8',('Time','DEPTH','LATITUDE','LONGITUDE'))\n",
    "sal=ncid.createVariable('salinity','f8',('Time','DEPTH','LATITUDE','LONGITUDE'))\n",
    "\n",
    "lat[:] = np.arange(-89.5,90,1)\n",
    "lonV[:] = lon[:]\n",
    "thet[:,:,:,:] = theta2\n",
    "sal[:,:,:,:] = salt2\n",
    "dep[:] = depth[:]\n",
    "month[:] = monthV[:]\n",
    "\n",
    "ncid.close()"
   ]
  }
 ],
 "metadata": {
  "kernelspec": {
   "display_name": "Python [conda root]",
   "language": "python",
   "name": "conda-root-py"
  },
  "language_info": {
   "codemirror_mode": {
    "name": "ipython",
    "version": 2
   },
   "file_extension": ".py",
   "mimetype": "text/x-python",
   "name": "python",
   "nbconvert_exporter": "python",
   "pygments_lexer": "ipython2",
   "version": "2.7.14"
  }
 },
 "nbformat": 4,
 "nbformat_minor": 2
}
